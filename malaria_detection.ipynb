{
  "nbformat": 4,
  "nbformat_minor": 0,
  "metadata": {
    "colab": {
      "name": "malaria detection.ipynb",
      "provenance": []
    },
    "kernelspec": {
      "name": "python3",
      "display_name": "Python 3"
    },
    "language_info": {
      "name": "python"
    },
    "accelerator": "GPU"
  },
  "cells": [
    {
      "cell_type": "code",
      "metadata": {
        "colab": {
          "base_uri": "https://localhost:8080/"
        },
        "id": "2HAbCCAsKSjx",
        "outputId": "4613f053-c4ea-4b18-dcc5-ba593097e8c8"
      },
      "source": [
        "from google.colab import drive\n",
        "drive.mount('/content/gdrive')"
      ],
      "execution_count": 202,
      "outputs": [
        {
          "output_type": "stream",
          "text": [
            "Drive already mounted at /content/gdrive; to attempt to forcibly remount, call drive.mount(\"/content/gdrive\", force_remount=True).\n"
          ],
          "name": "stdout"
        }
      ]
    },
    {
      "cell_type": "code",
      "metadata": {
        "id": "oEV6x0QTKcip"
      },
      "source": [
        "from tensorflow.keras.layers import Input,Conv2D,Flatten,Dense,Lambda\n",
        "from tensorflow.keras.models import Model\n",
        "from keras import models\n",
        "from keras import layers\n",
        "from keras import optimizers\n",
        "from tensorflow.keras.applications.vgg19 import VGG19\n",
        "from tensorflow.keras.applications.resnet50 import preprocess_input\n",
        "from tensorflow.keras.preprocessing import image\n",
        "from tensorflow.keras.preprocessing.image import ImageDataGenerator,load_img\n",
        "from glob import glob\n",
        "import numpy as np\n",
        "import matplotlib.pyplot as plt\n",
        "\n",
        "\n"
      ],
      "execution_count": 180,
      "outputs": []
    },
    {
      "cell_type": "code",
      "metadata": {
        "id": "jUzKt8NPO8Lx"
      },
      "source": [
        "image_size=[224,224]\n",
        "train_path='/content/gdrive/MyDrive/malaria detection/Train'\n",
        "test_path='/content/gdrive/MyDrive/malaria detection/Test'"
      ],
      "execution_count": 181,
      "outputs": []
    },
    {
      "cell_type": "code",
      "metadata": {
        "id": "WZKjID-GQNN8"
      },
      "source": [
        "cov_base=VGG19(weights='imagenet',include_top=False,input_shape=(224,224,3))"
      ],
      "execution_count": 182,
      "outputs": []
    },
    {
      "cell_type": "code",
      "metadata": {
        "colab": {
          "base_uri": "https://localhost:8080/"
        },
        "id": "2XUUglWLR64p",
        "outputId": "f8ed620d-2bdf-494a-fb19-9e0cf547e539"
      },
      "source": [
        "cov_base.summary()"
      ],
      "execution_count": 183,
      "outputs": [
        {
          "output_type": "stream",
          "text": [
            "Model: \"vgg19\"\n",
            "_________________________________________________________________\n",
            "Layer (type)                 Output Shape              Param #   \n",
            "=================================================================\n",
            "input_5 (InputLayer)         [(None, 224, 224, 3)]     0         \n",
            "_________________________________________________________________\n",
            "block1_conv1 (Conv2D)        (None, 224, 224, 64)      1792      \n",
            "_________________________________________________________________\n",
            "block1_conv2 (Conv2D)        (None, 224, 224, 64)      36928     \n",
            "_________________________________________________________________\n",
            "block1_pool (MaxPooling2D)   (None, 112, 112, 64)      0         \n",
            "_________________________________________________________________\n",
            "block2_conv1 (Conv2D)        (None, 112, 112, 128)     73856     \n",
            "_________________________________________________________________\n",
            "block2_conv2 (Conv2D)        (None, 112, 112, 128)     147584    \n",
            "_________________________________________________________________\n",
            "block2_pool (MaxPooling2D)   (None, 56, 56, 128)       0         \n",
            "_________________________________________________________________\n",
            "block3_conv1 (Conv2D)        (None, 56, 56, 256)       295168    \n",
            "_________________________________________________________________\n",
            "block3_conv2 (Conv2D)        (None, 56, 56, 256)       590080    \n",
            "_________________________________________________________________\n",
            "block3_conv3 (Conv2D)        (None, 56, 56, 256)       590080    \n",
            "_________________________________________________________________\n",
            "block3_conv4 (Conv2D)        (None, 56, 56, 256)       590080    \n",
            "_________________________________________________________________\n",
            "block3_pool (MaxPooling2D)   (None, 28, 28, 256)       0         \n",
            "_________________________________________________________________\n",
            "block4_conv1 (Conv2D)        (None, 28, 28, 512)       1180160   \n",
            "_________________________________________________________________\n",
            "block4_conv2 (Conv2D)        (None, 28, 28, 512)       2359808   \n",
            "_________________________________________________________________\n",
            "block4_conv3 (Conv2D)        (None, 28, 28, 512)       2359808   \n",
            "_________________________________________________________________\n",
            "block4_conv4 (Conv2D)        (None, 28, 28, 512)       2359808   \n",
            "_________________________________________________________________\n",
            "block4_pool (MaxPooling2D)   (None, 14, 14, 512)       0         \n",
            "_________________________________________________________________\n",
            "block5_conv1 (Conv2D)        (None, 14, 14, 512)       2359808   \n",
            "_________________________________________________________________\n",
            "block5_conv2 (Conv2D)        (None, 14, 14, 512)       2359808   \n",
            "_________________________________________________________________\n",
            "block5_conv3 (Conv2D)        (None, 14, 14, 512)       2359808   \n",
            "_________________________________________________________________\n",
            "block5_conv4 (Conv2D)        (None, 14, 14, 512)       2359808   \n",
            "_________________________________________________________________\n",
            "block5_pool (MaxPooling2D)   (None, 7, 7, 512)         0         \n",
            "=================================================================\n",
            "Total params: 20,024,384\n",
            "Trainable params: 20,024,384\n",
            "Non-trainable params: 0\n",
            "_________________________________________________________________\n"
          ],
          "name": "stdout"
        }
      ]
    },
    {
      "cell_type": "code",
      "metadata": {
        "id": "kDzDCM4-SB2P"
      },
      "source": [
        "model=models.Sequential()\n",
        "model.add(cov_base)\n",
        "model.add(layers.Flatten())\n",
        "model.add(layers.Dense(256,activation='relu',))\n",
        "model.add(layers.Dense(2,activation='softmax'))"
      ],
      "execution_count": 184,
      "outputs": []
    },
    {
      "cell_type": "code",
      "metadata": {
        "id": "L4mItwTOTOY-"
      },
      "source": [
        "model.compile(optimizer=optimizers.RMSprop(lr=2e-5),loss='categorical_crossentropy',metrics=['accuracy'])"
      ],
      "execution_count": 185,
      "outputs": []
    },
    {
      "cell_type": "code",
      "metadata": {
        "id": "_AgagDOpUP-c"
      },
      "source": [
        "# don't train existing weights\n",
        "for layer in cov_base.layers:\n",
        "    layer.trainable = False\n",
        "    "
      ],
      "execution_count": 186,
      "outputs": []
    },
    {
      "cell_type": "code",
      "metadata": {
        "id": "fK8PaUwxUsSz"
      },
      "source": [
        "folders=glob(train_path+'/'+'*')"
      ],
      "execution_count": 187,
      "outputs": []
    },
    {
      "cell_type": "code",
      "metadata": {
        "colab": {
          "base_uri": "https://localhost:8080/"
        },
        "id": "4wNtS_GUVXgv",
        "outputId": "b5643c4b-3b69-481f-c51d-957e5f4ec9d2"
      },
      "source": [
        "len(folders)"
      ],
      "execution_count": 188,
      "outputs": [
        {
          "output_type": "execute_result",
          "data": {
            "text/plain": [
              "2"
            ]
          },
          "metadata": {
            "tags": []
          },
          "execution_count": 188
        }
      ]
    },
    {
      "cell_type": "code",
      "metadata": {
        "id": "yl-7moN0VYoX"
      },
      "source": [
        "train_datagen=ImageDataGenerator(rescale = 1./255,\n",
        "                                   shear_range = 0.2,\n",
        "                                   zoom_range = 0.2,\n",
        "                                   horizontal_flip = True)\n",
        "test_datagen=ImageDataGenerator(rescale=1./255)"
      ],
      "execution_count": 189,
      "outputs": []
    },
    {
      "cell_type": "code",
      "metadata": {
        "colab": {
          "base_uri": "https://localhost:8080/"
        },
        "id": "MrdIXA5CWNbP",
        "outputId": "5564eb6d-77c1-4805-9611-df89153e02c6"
      },
      "source": [
        "train_gen=train_datagen.flow_from_directory(train_path,target_size=(224,224),batch_size=32,class_mode='categorical')"
      ],
      "execution_count": 190,
      "outputs": [
        {
          "output_type": "stream",
          "text": [
            "Found 416 images belonging to 2 classes.\n"
          ],
          "name": "stdout"
        }
      ]
    },
    {
      "cell_type": "code",
      "metadata": {
        "colab": {
          "base_uri": "https://localhost:8080/"
        },
        "id": "dpC31f8wffiO",
        "outputId": "d4d7f7d1-5a7e-49c5-d251-a25aaf519340"
      },
      "source": [
        "train_gen.class_indices"
      ],
      "execution_count": 191,
      "outputs": [
        {
          "output_type": "execute_result",
          "data": {
            "text/plain": [
              "{'Parasite': 0, 'Uninfected': 1}"
            ]
          },
          "metadata": {
            "tags": []
          },
          "execution_count": 191
        }
      ]
    },
    {
      "cell_type": "code",
      "metadata": {
        "colab": {
          "base_uri": "https://localhost:8080/"
        },
        "id": "7BXRduehWsqy",
        "outputId": "1a2ca75a-9c5d-4313-b304-678579b76306"
      },
      "source": [
        "test_gen=test_datagen.flow_from_directory(test_path,target_size=(224,224),batch_size=32,class_mode='categorical')"
      ],
      "execution_count": 192,
      "outputs": [
        {
          "output_type": "stream",
          "text": [
            "Found 134 images belonging to 2 classes.\n"
          ],
          "name": "stdout"
        }
      ]
    },
    {
      "cell_type": "code",
      "metadata": {
        "colab": {
          "base_uri": "https://localhost:8080/"
        },
        "id": "pH4C7scwcZKQ",
        "outputId": "95491c6a-b435-414a-d7a2-d0c6f393e7dd"
      },
      "source": [
        "test_gen\n"
      ],
      "execution_count": 193,
      "outputs": [
        {
          "output_type": "execute_result",
          "data": {
            "text/plain": [
              "<tensorflow.python.keras.preprocessing.image.DirectoryIterator at 0x7f1013afb610>"
            ]
          },
          "metadata": {
            "tags": []
          },
          "execution_count": 193
        }
      ]
    },
    {
      "cell_type": "code",
      "metadata": {
        "colab": {
          "base_uri": "https://localhost:8080/"
        },
        "id": "0hVPnYFmW9Pr",
        "outputId": "9992c22b-c5ea-4756-9e84-8c749436de04"
      },
      "source": [
        "history=model.fit_generator(train_gen,validation_data=test_gen,epochs=25,steps_per_epoch=len(train_gen),validation_steps=len(test_gen))"
      ],
      "execution_count": 194,
      "outputs": [
        {
          "output_type": "stream",
          "text": [
            "/usr/local/lib/python3.7/dist-packages/tensorflow/python/keras/engine/training.py:1844: UserWarning: `Model.fit_generator` is deprecated and will be removed in a future version. Please use `Model.fit`, which supports generators.\n",
            "  warnings.warn('`Model.fit_generator` is deprecated and '\n"
          ],
          "name": "stderr"
        },
        {
          "output_type": "stream",
          "text": [
            "Epoch 1/25\n",
            "13/13 [==============================] - 16s 1s/step - loss: 0.7604 - accuracy: 0.5896 - val_loss: 0.7049 - val_accuracy: 0.6791\n",
            "Epoch 2/25\n",
            "13/13 [==============================] - 14s 1s/step - loss: 0.6350 - accuracy: 0.6413 - val_loss: 1.0218 - val_accuracy: 0.6791\n",
            "Epoch 3/25\n",
            "13/13 [==============================] - 14s 1s/step - loss: 0.5645 - accuracy: 0.7350 - val_loss: 0.1295 - val_accuracy: 0.9478\n",
            "Epoch 4/25\n",
            "13/13 [==============================] - 14s 1s/step - loss: 0.1073 - accuracy: 0.9620 - val_loss: 0.1641 - val_accuracy: 0.9403\n",
            "Epoch 5/25\n",
            "13/13 [==============================] - 14s 1s/step - loss: 0.0723 - accuracy: 0.9783 - val_loss: 0.0982 - val_accuracy: 0.9627\n",
            "Epoch 6/25\n",
            "13/13 [==============================] - 14s 1s/step - loss: 0.0446 - accuracy: 0.9892 - val_loss: 0.0980 - val_accuracy: 0.9627\n",
            "Epoch 7/25\n",
            "13/13 [==============================] - 14s 1s/step - loss: 0.0686 - accuracy: 0.9824 - val_loss: 0.0831 - val_accuracy: 0.9776\n",
            "Epoch 8/25\n",
            "13/13 [==============================] - 14s 1s/step - loss: 0.0214 - accuracy: 0.9966 - val_loss: 0.0834 - val_accuracy: 0.9776\n",
            "Epoch 9/25\n",
            "13/13 [==============================] - 14s 1s/step - loss: 0.0292 - accuracy: 0.9883 - val_loss: 0.0800 - val_accuracy: 0.9776\n",
            "Epoch 10/25\n",
            "13/13 [==============================] - 14s 1s/step - loss: 0.0388 - accuracy: 0.9913 - val_loss: 0.1061 - val_accuracy: 0.9701\n",
            "Epoch 11/25\n",
            "13/13 [==============================] - 14s 1s/step - loss: 0.0211 - accuracy: 0.9964 - val_loss: 0.0983 - val_accuracy: 0.9776\n",
            "Epoch 12/25\n",
            "13/13 [==============================] - 14s 1s/step - loss: 0.0109 - accuracy: 0.9985 - val_loss: 0.3555 - val_accuracy: 0.9030\n",
            "Epoch 13/25\n",
            "13/13 [==============================] - 14s 1s/step - loss: 0.1081 - accuracy: 0.9758 - val_loss: 0.0914 - val_accuracy: 0.9776\n",
            "Epoch 14/25\n",
            "13/13 [==============================] - 14s 1s/step - loss: 0.0353 - accuracy: 0.9929 - val_loss: 0.0787 - val_accuracy: 0.9776\n",
            "Epoch 15/25\n",
            "13/13 [==============================] - 14s 1s/step - loss: 0.0283 - accuracy: 0.9927 - val_loss: 0.1145 - val_accuracy: 0.9776\n",
            "Epoch 16/25\n",
            "13/13 [==============================] - 14s 1s/step - loss: 0.0344 - accuracy: 0.9910 - val_loss: 0.0990 - val_accuracy: 0.9776\n",
            "Epoch 17/25\n",
            "13/13 [==============================] - 14s 1s/step - loss: 0.1941 - accuracy: 0.9581 - val_loss: 0.1020 - val_accuracy: 0.9701\n",
            "Epoch 18/25\n",
            "13/13 [==============================] - 14s 1s/step - loss: 0.0123 - accuracy: 0.9981 - val_loss: 0.0990 - val_accuracy: 0.9701\n",
            "Epoch 19/25\n",
            "13/13 [==============================] - 14s 1s/step - loss: 0.0086 - accuracy: 0.9988 - val_loss: 0.0946 - val_accuracy: 0.9776\n",
            "Epoch 20/25\n",
            "13/13 [==============================] - 14s 1s/step - loss: 0.0068 - accuracy: 0.9993 - val_loss: 0.1037 - val_accuracy: 0.9701\n",
            "Epoch 21/25\n",
            "13/13 [==============================] - 14s 1s/step - loss: 0.0040 - accuracy: 0.9995 - val_loss: 0.1237 - val_accuracy: 0.9701\n",
            "Epoch 22/25\n",
            "13/13 [==============================] - 14s 1s/step - loss: 0.0103 - accuracy: 0.9975 - val_loss: 0.0792 - val_accuracy: 0.9776\n",
            "Epoch 23/25\n",
            "13/13 [==============================] - 14s 1s/step - loss: 0.0373 - accuracy: 0.9912 - val_loss: 0.0710 - val_accuracy: 0.9776\n",
            "Epoch 24/25\n",
            "13/13 [==============================] - 14s 1s/step - loss: 0.0200 - accuracy: 0.9958 - val_loss: 0.0940 - val_accuracy: 0.9776\n",
            "Epoch 25/25\n",
            "13/13 [==============================] - 14s 1s/step - loss: 0.0046 - accuracy: 0.9995 - val_loss: 0.1066 - val_accuracy: 0.9701\n"
          ],
          "name": "stdout"
        }
      ]
    },
    {
      "cell_type": "code",
      "metadata": {
        "colab": {
          "base_uri": "https://localhost:8080/",
          "height": 530
        },
        "id": "nqmHxs-ia_4H",
        "outputId": "4606bc9d-316d-4af6-bb52-e9ae18a7dfdd"
      },
      "source": [
        "plt.plot(history.history['loss'], label='train loss')\n",
        "plt.plot(history.history['val_loss'], label='val loss')\n",
        "plt.legend()\n",
        "plt.show()\n",
        "plt.savefig('LossVal_loss')\n",
        "\n",
        "# plot the accuracy\n",
        "plt.plot(history.history['accuracy'], label='train acc')\n",
        "plt.plot(history.history['val_accuracy'], label='val acc')\n",
        "plt.legend()\n",
        "plt.show()\n",
        "plt.savefig('AccVal_acc')"
      ],
      "execution_count": 195,
      "outputs": [
        {
          "output_type": "display_data",
          "data": {
            "image/png": "[encoded data removed]",
            "text/plain": [
              "<Figure size 432x288 with 1 Axes>"
            ]
          },
          "metadata": {
            "tags": [],
            "needs_background": "light"
          }
        },
        {
          "output_type": "display_data",
          "data": {
            "image/png": "[encoded data removed]",
            "text/plain": [
              "<Figure size 432x288 with 1 Axes>"
            ]
          },
          "metadata": {
            "tags": [],
            "needs_background": "light"
          }
        },
        {
          "output_type": "display_data",
          "data": {
            "text/plain": [
              "<Figure size 432x288 with 0 Axes>"
            ]
          },
          "metadata": {
            "tags": []
          }
        }
      ]
    },
    {
      "cell_type": "code",
      "metadata": {
        "id": "i9ooD6hmbp34"
      },
      "source": [
        "from keras.models import load_model"
      ],
      "execution_count": 196,
      "outputs": []
    },
    {
      "cell_type": "code",
      "metadata": {
        "id": "Af1WlnBDcGUA"
      },
      "source": [
        "model.save('vgg19_mal4.h5')"
      ],
      "execution_count": 205,
      "outputs": []
    },
    {
      "cell_type": "code",
      "metadata": {
        "id": "6HreiAIZcQ0f"
      },
      "source": [
        "from keras.preprocessing import image"
      ],
      "execution_count": 198,
      "outputs": []
    },
    {
      "cell_type": "code",
      "metadata": {
        "id": "7l6Zrn6QcmIY"
      },
      "source": [
        "model=load_model('vgg19_mal4.h5')"
      ],
      "execution_count": 206,
      "outputs": []
    },
    {
      "cell_type": "code",
      "metadata": {
        "id": "oKvto0ljcqYW"
      },
      "source": [
        "img=image.load_img('/content/drive/MyDrive/malaria detection/Test/Uninfected/C3thin_original_IMG_20150608_162922_cell_191.png',target_size=(224,224))"
      ],
      "execution_count": 209,
      "outputs": []
    },
    {
      "cell_type": "code",
      "metadata": {
        "id": "uUj1FgWsc_xo"
      },
      "source": [
        "img_tensor=image.img_to_array(img)"
      ],
      "execution_count": 210,
      "outputs": []
    },
    {
      "cell_type": "code",
      "metadata": {
        "colab": {
          "base_uri": "https://localhost:8080/"
        },
        "id": "z6vToKsainek",
        "outputId": "0d1bf2dd-d657-494e-c01e-8009626cfc49"
      },
      "source": [
        "from google.colab import drive\n",
        "drive.mount('/content/drive')"
      ],
      "execution_count": 208,
      "outputs": [
        {
          "output_type": "stream",
          "text": [
            "Drive already mounted at /content/drive; to attempt to forcibly remount, call drive.mount(\"/content/drive\", force_remount=True).\n"
          ],
          "name": "stdout"
        }
      ]
    },
    {
      "cell_type": "code",
      "metadata": {
        "id": "HhC1P4gKng5_"
      },
      "source": [
        ""
      ],
      "execution_count": null,
      "outputs": []
    },
    {
      "cell_type": "code",
      "metadata": {
        "id": "zIrAOf4VdRHz"
      },
      "source": [
        "img_tensor.shape"
      ],
      "execution_count": null,
      "outputs": []
    },
    {
      "cell_type": "code",
      "metadata": {
        "id": "7picbKRIdXTY"
      },
      "source": [
        "img_ten=np.expand_dims(img_tensor,axis=0)"
      ],
      "execution_count": 211,
      "outputs": []
    },
    {
      "cell_type": "code",
      "metadata": {
        "id": "DgXfZ4BLdirz"
      },
      "source": [
        "img_ten/=255\n"
      ],
      "execution_count": 212,
      "outputs": []
    },
    {
      "cell_type": "code",
      "metadata": {
        "colab": {
          "base_uri": "https://localhost:8080/",
          "height": 269
        },
        "id": "OQzb8alBoEdM",
        "outputId": "6ab07983-a723-4790-9ad1-088db30fa6d2"
      },
      "source": [
        "plt.imshow(img_ten[0])\n",
        "plt.show()"
      ],
      "execution_count": 220,
      "outputs": [
        {
          "output_type": "display_data",
          "data": {
            "image/png": "[encoded data removed]",
            "text/plain": [
              "<Figure size 432x288 with 1 Axes>"
            ]
          },
          "metadata": {
            "tags": [],
            "needs_background": "light"
          }
        }
      ]
    },
    {
      "cell_type": "code",
      "metadata": {
        "colab": {
          "base_uri": "https://localhost:8080/"
        },
        "id": "yXtk1upVeLKu",
        "outputId": "03d1c1a7-be83-45c4-dbd0-9eeb2810affd"
      },
      "source": [
        "img_ten.shape"
      ],
      "execution_count": 214,
      "outputs": [
        {
          "output_type": "execute_result",
          "data": {
            "text/plain": [
              "(1, 224, 224, 3)"
            ]
          },
          "metadata": {
            "tags": []
          },
          "execution_count": 214
        }
      ]
    },
    {
      "cell_type": "code",
      "metadata": {
        "colab": {
          "base_uri": "https://localhost:8080/"
        },
        "id": "zH-2_ILJd2j0",
        "outputId": "a2f51cec-ee3d-435c-def2-f0c560031cd8"
      },
      "source": [
        "model.predict(img_ten)"
      ],
      "execution_count": 213,
      "outputs": [
        {
          "output_type": "execute_result",
          "data": {
            "text/plain": [
              "array([[0.00407434, 0.99592566]], dtype=float32)"
            ]
          },
          "metadata": {
            "tags": []
          },
          "execution_count": 213
        }
      ]
    },
    {
      "cell_type": "code",
      "metadata": {
        "id": "mt39XgfPd_Sp"
      },
      "source": [
        "a=np.argmax(model.predict(img_ten), axis=1)"
      ],
      "execution_count": 215,
      "outputs": []
    },
    {
      "cell_type": "code",
      "metadata": {
        "colab": {
          "base_uri": "https://localhost:8080/"
        },
        "id": "7Lhs1uRpehE-",
        "outputId": "0e7d7259-b6d7-4499-97ff-01000db48527"
      },
      "source": [
        "a"
      ],
      "execution_count": 216,
      "outputs": [
        {
          "output_type": "execute_result",
          "data": {
            "text/plain": [
              "array([1])"
            ]
          },
          "metadata": {
            "tags": []
          },
          "execution_count": 216
        }
      ]
    },
    {
      "cell_type": "code",
      "metadata": {
        "id": "sDlm-6IGeVvg"
      },
      "source": [
        "a"
      ],
      "execution_count": null,
      "outputs": []
    },
    {
      "cell_type": "code",
      "metadata": {
        "colab": {
          "base_uri": "https://localhost:8080/"
        },
        "id": "BIIwlu1keWey",
        "outputId": "eadac0c3-c9d8-47e7-bc65-a65060e2a7b5"
      },
      "source": [
        "if(a==1):\n",
        "    print(\"Uninfected\")\n",
        "else:\n",
        "    print(\"Infected\")"
      ],
      "execution_count": 221,
      "outputs": [
        {
          "output_type": "stream",
          "text": [
            "Uninfected\n"
          ],
          "name": "stdout"
        }
      ]
    },
    {
      "cell_type": "code",
      "metadata": {
        "id": "hGL5crjzedta"
      },
      "source": [
        ""
      ],
      "execution_count": null,
      "outputs": []
    }
  ]
}